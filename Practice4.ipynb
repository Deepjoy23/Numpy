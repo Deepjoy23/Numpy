{
 "cells": [
  {
   "cell_type": "markdown",
   "id": "a87ccaec-8766-43c0-a831-2eb8a01dc949",
   "metadata": {},
   "source": [
    "### Numpy Where / Filtering"
   ]
  },
  {
   "cell_type": "code",
   "execution_count": 5,
   "id": "c8515d53-b4bb-4f5d-b5d8-2f343fca3568",
   "metadata": {},
   "outputs": [
    {
     "name": "stdout",
     "output_type": "stream",
     "text": [
      "[[1 2 3]\n",
      " [4 5 6]\n",
      " [7 8 9]]\n"
     ]
    }
   ],
   "source": [
    "import numpy as np\n",
    "a=np.array([[1,2,3],[4,5,6],[7,8,9]])\n",
    "print(a)"
   ]
  },
  {
   "cell_type": "code",
   "execution_count": 3,
   "id": "b2475904-c6c4-47cd-95e4-202383f189a5",
   "metadata": {},
   "outputs": [
    {
     "data": {
      "text/plain": [
       "array([[ True,  True,  True],\n",
       "       [ True,  True,  True],\n",
       "       [False, False, False]])"
      ]
     },
     "execution_count": 3,
     "metadata": {},
     "output_type": "execute_result"
    }
   ],
   "source": [
    "a<=6 #Condition checking"
   ]
  },
  {
   "cell_type": "code",
   "execution_count": 6,
   "id": "733cf5ff-d344-4a25-a00d-d8f0b4ee93a9",
   "metadata": {},
   "outputs": [
    {
     "data": {
      "text/plain": [
       "(array([0, 0, 0, 1, 1, 1], dtype=int64),\n",
       " array([0, 1, 2, 0, 1, 2], dtype=int64))"
      ]
     },
     "execution_count": 6,
     "metadata": {},
     "output_type": "execute_result"
    }
   ],
   "source": [
    "np.where(a<=6) #returning the True value of condition in row & column wise--1st is row and 2nd is column"
   ]
  },
  {
   "cell_type": "code",
   "execution_count": 7,
   "id": "0c2a86d4-488d-4875-ad11-b2503f75fce5",
   "metadata": {},
   "outputs": [
    {
     "data": {
      "text/plain": [
       "array([1, 2, 3, 4, 5, 6])"
      ]
     },
     "execution_count": 7,
     "metadata": {},
     "output_type": "execute_result"
    }
   ],
   "source": [
    "a[np.where(a<=6)] #Values output for the condition"
   ]
  },
  {
   "cell_type": "code",
   "execution_count": 8,
   "id": "bba9abf1-1155-4ca2-abcf-780c02433def",
   "metadata": {},
   "outputs": [
    {
     "data": {
      "text/plain": [
       "array([1, 2, 3, 4, 5, 6])"
      ]
     },
     "execution_count": 8,
     "metadata": {},
     "output_type": "execute_result"
    }
   ],
   "source": [
    "a[[0, 0, 0, 1, 1, 1],[0, 1, 2, 0, 1, 2]] #Values output for the condition"
   ]
  },
  {
   "cell_type": "code",
   "execution_count": 9,
   "id": "74ccab35-b020-49c8-9195-9210a0c35549",
   "metadata": {},
   "outputs": [
    {
     "data": {
      "text/plain": [
       "array([2, 4, 6, 8])"
      ]
     },
     "execution_count": 9,
     "metadata": {},
     "output_type": "execute_result"
    }
   ],
   "source": [
    "# Even Number checking inside a array matrix\n",
    "a=np.array([[1,2,3],[4,5,6],[7,8,9]])\n",
    "a[np.where(a%2==0)]"
   ]
  },
  {
   "cell_type": "code",
   "execution_count": 10,
   "id": "74b8ec7c-098f-4d3a-a858-d43460b587f4",
   "metadata": {},
   "outputs": [
    {
     "data": {
      "text/plain": [
       "array([1, 3, 5, 7, 9])"
      ]
     },
     "execution_count": 10,
     "metadata": {},
     "output_type": "execute_result"
    }
   ],
   "source": [
    "# Odd Number checking inside a array matrix\n",
    "a=np.array([[1,2,3],[4,5,6],[7,8,9]])\n",
    "a[np.where(a%2!=0)]"
   ]
  },
  {
   "cell_type": "code",
   "execution_count": null,
   "id": "347011c3-e206-4f4f-8adc-8fc7ab0ee5f7",
   "metadata": {},
   "outputs": [],
   "source": []
  }
 ],
 "metadata": {
  "kernelspec": {
   "display_name": "Python 3 (ipykernel)",
   "language": "python",
   "name": "python3"
  },
  "language_info": {
   "codemirror_mode": {
    "name": "ipython",
    "version": 3
   },
   "file_extension": ".py",
   "mimetype": "text/x-python",
   "name": "python",
   "nbconvert_exporter": "python",
   "pygments_lexer": "ipython3",
   "version": "3.10.10"
  }
 },
 "nbformat": 4,
 "nbformat_minor": 5
}
