{
 "cells": [
  {
   "cell_type": "code",
   "execution_count": 1,
   "id": "9b8bafbd-a58d-4c28-b9b5-fc7998c32129",
   "metadata": {},
   "outputs": [
    {
     "data": {
      "text/plain": [
       "array([ 0.80016067, -0.00547236,  0.70504196, -0.6659725 , -1.37289479,\n",
       "       -1.31876428, -1.36145602, -0.17321751, -0.48357045, -0.84785554,\n",
       "       -1.37236739, -1.32727706,  0.68103612, -0.4339043 ,  2.63522493,\n",
       "        0.32992235,  0.89110128, -2.40622954, -0.92116201, -0.79354159,\n",
       "       -0.42683797, -0.29612193,  0.16560835, -0.78767437, -1.00373018,\n",
       "       -0.31278511, -0.44556485,  1.33289312,  0.66398072, -1.28212512,\n",
       "       -0.44347581,  0.62081426,  0.70539113,  0.07663539, -1.26466975,\n",
       "        0.38465895,  1.17318774, -0.74912199, -0.40332534,  1.84013272,\n",
       "        0.41308289, -0.63477608, -0.1865488 ,  0.0213443 , -0.37669818,\n",
       "        0.22307891, -0.5294953 ,  0.16806681,  0.10303377, -0.72383682,\n",
       "       -0.08691369,  0.32036078, -0.46707397, -0.02956477,  1.12230905,\n",
       "       -1.03082503, -0.00739647, -0.63757704,  0.8047562 ,  0.46299438,\n",
       "        0.1629796 , -1.38724211,  2.69347525, -0.18344514, -0.62454922,\n",
       "        0.19636517,  0.97933291, -0.36230619, -0.52651601,  0.77175756,\n",
       "       -0.71775844,  1.11440575, -0.8158696 ,  0.66368627,  0.54532444,\n",
       "        0.25294442, -0.58225679,  0.94624097, -0.90537964, -1.0782321 ,\n",
       "       -1.07569032,  1.27516399, -1.96519149,  0.57612775,  0.807692  ,\n",
       "        0.12447248,  1.17316462,  0.34311117,  0.52230708, -1.52557324,\n",
       "        0.68103953, -1.36822107, -0.56986759, -0.1192095 , -0.14128818,\n",
       "        0.47617138,  0.71873919, -0.16767168,  0.25695801, -1.87615708])"
      ]
     },
     "execution_count": 1,
     "metadata": {},
     "output_type": "execute_result"
    }
   ],
   "source": [
    "# Gaussian Distribution Generation\n",
    "from numpy import random as na\n",
    "mu=0\n",
    "sigma=1\n",
    "na.normal(mu,sigma,100)"
   ]
  },
  {
   "cell_type": "markdown",
   "id": "520cd17d-9066-4d59-baa1-e7280d41b9cb",
   "metadata": {},
   "source": [
    "## T Test"
   ]
  },
  {
   "cell_type": "markdown",
   "id": "08a43c7c-955e-4005-94d9-0463fd70493a",
   "metadata": {},
   "source": [
    "### when the p_value is lesser than or equal to the significance level (0.05) --> Alternative hypothesis\n",
    "### when the p_value is grater than to the significance level (0.05) --> null hypothesis"
   ]
  },
  {
   "cell_type": "code",
   "execution_count": 2,
   "id": "4bfabd28-a71d-4caf-b93c-f1ea0d7c7c65",
   "metadata": {},
   "outputs": [
    {
     "name": "stdout",
     "output_type": "stream",
     "text": [
      "-42.009596671422436 1.1359478465846958e-10\n",
      "Alternative Hypothesis\n"
     ]
    }
   ],
   "source": [
    "### One sample t-test\n",
    "\n",
    "a = [72,89,65,73,84,63,76,85,75]\n",
    "mu = 200 ## Hypothetical mean value\n",
    "\n",
    "## Null : the mean will be equal\n",
    "## Alternate: there is a significant difference between these two mean value\n",
    "\n",
    "import numpy as np\n",
    "from scipy import stats\n",
    "\n",
    "np_a = np.array(a)\n",
    "t_test, p_value = stats.ttest_1samp(np_a, mu)\n",
    "\n",
    "print(t_test, p_value)\n",
    "\n",
    "alpha =0.05\n",
    "if p_value>alpha:\n",
    "    print(\"Null Hypothesis\")\n",
    "else:\n",
    "    print(\"Alternative Hypothesis\")"
   ]
  },
  {
   "cell_type": "code",
   "execution_count": 3,
   "id": "db57012b-f885-44d6-8b77-ef1bb916f996",
   "metadata": {},
   "outputs": [
    {
     "data": {
      "text/plain": [
       "75.77777777777777"
      ]
     },
     "execution_count": 3,
     "metadata": {},
     "output_type": "execute_result"
    }
   ],
   "source": [
    "sum (a)/len(a)"
   ]
  },
  {
   "cell_type": "code",
   "execution_count": 4,
   "id": "c9fbf17b-020c-4fa5-8ea3-afe44966ef8b",
   "metadata": {},
   "outputs": [
    {
     "name": "stdout",
     "output_type": "stream",
     "text": [
      "2.6302967277865115e-07 0.9999997965733661\n",
      "Null Hypothesis\n"
     ]
    }
   ],
   "source": [
    "### One sample t-test\n",
    "\n",
    "a = [72,89,65,73,84,63,76,85,75]\n",
    "mu = 75.777777 ## Hypothetical mean value\n",
    "\n",
    "## Null : the mean will be equal\n",
    "## Alternate: there is a significant difference between these two mean value\n",
    "\n",
    "import numpy as np\n",
    "from scipy import stats\n",
    "\n",
    "np_a = np.array(a)\n",
    "t_test, p_value = stats.ttest_1samp(np_a, mu)\n",
    "\n",
    "print(t_test, p_value)\n",
    "\n",
    "alpha =0.05\n",
    "if p_value>alpha:\n",
    "    print(\"Null Hypothesis\")\n",
    "else:\n",
    "    print(\"Alternative Hypothesis\")"
   ]
  },
  {
   "cell_type": "code",
   "execution_count": 5,
   "id": "4f14d6ee-2c07-4b87-b619-fd55f7f0ea25",
   "metadata": {},
   "outputs": [
    {
     "name": "stdout",
     "output_type": "stream",
     "text": [
      "1.953934728903367 0.0864648689347439\n",
      "Null Hypothesis\n"
     ]
    }
   ],
   "source": [
    "### One sample t-test\n",
    "\n",
    "a = [72,89,65,73,84,63,76,85,75]\n",
    "mu = 70 ## Hypothetical mean value\n",
    "\n",
    "## Null : there is a significant difference between these two mean value\n",
    "## Alternate: the mean will be equal\n",
    "\n",
    "t_test, p_value = stats.ttest_1samp(a, mu)\n",
    "\n",
    "print(t_test, p_value)\n",
    "\n",
    "alpha =0.05\n",
    "if p_value>alpha:\n",
    "    print(\"Null Hypothesis\")\n",
    "else:\n",
    "    print(\"Alternative Hypothesis\")"
   ]
  },
  {
   "cell_type": "code",
   "execution_count": 6,
   "id": "5e490fe4-4ab2-40cd-b4bc-26de771bb72a",
   "metadata": {},
   "outputs": [
    {
     "name": "stdout",
     "output_type": "stream",
     "text": [
      "-18.484139190204377 3.7382890691999086e-13\n",
      "Null Hypothesis\n"
     ]
    }
   ],
   "source": [
    "### Two sample t-test\n",
    "\n",
    "versicolor = [4.7, 4.5, 4.9, 4.0, 4.6, 4.5, 4.7, 3.3, 4.6, 3.9]\n",
    "setosa = [1.4, 1.4, 1.3, 1.5, 1.4, 1.7, 1.4, 1.5, 1.4, 1.5]\n",
    "\n",
    "## Null : there is a significant difference between these two mean value\n",
    "## Alternate: the mean will be equal\n",
    "t_test, p_value = stats.ttest_ind(setosa,versicolor)\n",
    "\n",
    "print(t_test, p_value)\n",
    "\n",
    "alpha =0.05\n",
    "if p_value<alpha:\n",
    "    print(\"Null Hypothesis\")\n",
    "else:\n",
    "    print(\"Alternative Hypothesis\")"
   ]
  },
  {
   "cell_type": "markdown",
   "id": "15ef1710-18d2-4a13-9c7c-fc774382d9a7",
   "metadata": {},
   "source": [
    "## Anova Testing\n",
    "### H0 (null hypothesis): μ1 = μ2 = μ3 = … = μk (It implies that the means of all the population are equal)\n",
    "### H1 (alternate hypothesis): It states that there will be at least one population mean that differs from the rest"
   ]
  },
  {
   "cell_type": "code",
   "execution_count": 7,
   "id": "463d42bc-766c-49c0-8d93-b7632ced43ac",
   "metadata": {},
   "outputs": [
    {
     "name": "stdout",
     "output_type": "stream",
     "text": [
      "F_onewayResult(statistic=0.0, pvalue=1.0)\n"
     ]
    }
   ],
   "source": [
    "\n",
    "performance1 = [89, 89, 88, 78, 79]\n",
    "performance2 = [89, 89, 88, 78, 79]\n",
    "performance3 = [89, 89, 88, 78, 79]\n",
    "performance4 = [89, 89, 88, 78, 79]\n",
    "\n",
    "from scipy.stats import f_oneway\n",
    "\n",
    "values = f_oneway(performance1,performance2, performance3, performance4)\n",
    "print(values)"
   ]
  },
  {
   "cell_type": "code",
   "execution_count": null,
   "id": "d535f8f6-1a9f-42b0-a490-9e86a965ffe5",
   "metadata": {},
   "outputs": [],
   "source": []
  }
 ],
 "metadata": {
  "kernelspec": {
   "display_name": "Python 3 (ipykernel)",
   "language": "python",
   "name": "python3"
  },
  "language_info": {
   "codemirror_mode": {
    "name": "ipython",
    "version": 3
   },
   "file_extension": ".py",
   "mimetype": "text/x-python",
   "name": "python",
   "nbconvert_exporter": "python",
   "pygments_lexer": "ipython3",
   "version": "3.10.10"
  }
 },
 "nbformat": 4,
 "nbformat_minor": 5
}
